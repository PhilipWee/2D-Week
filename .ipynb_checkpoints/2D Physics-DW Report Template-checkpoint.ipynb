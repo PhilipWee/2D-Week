{
 "cells": [
  {
   "cell_type": "markdown",
   "metadata": {},
   "source": [
    "# Report for 2D Project Physical World and Digital World\n",
    "\n",
    "Cohort: F07\n",
    "\n",
    "Team No.: # Enter your team number\n",
    "\n",
    "Members:\n",
    "* Philip Andrew Wee De Wang (1003342)\n",
    "* Nicholas Lim Jun Yuan ()\n",
    "* Stephen Alvin (1003309)\n",
    "* Bhuvaneswari Sithanathan (1003798)\n"
   ]
  },
  {
   "cell_type": "markdown",
   "metadata": {},
   "source": [
    "# Introduction\n",
    "\n",
    "Write your introduction here. Describe the problem you want to solve and a brief of your approach and summary of your result.\n",
    "\n",
    "Problem:\n",
    "We wish to measure the temperature of a bottle, but we only wish to use the first 10 seconds of data in order to obtain the temperature at the 2 minute mark within 0.1 degrees celcius accuracy.\n",
    "\n",
    "Approach:\n",
    "We will measure the temperature every second for 10 seconds, starting at 25 degrees celcius and at the end of 10 seconds we will run the collected data through our trained model to predict the temperature at the 2 minute mark\n",
    "\n",
    "Summary:\n",
    "\n"
   ]
  },
  {
   "cell_type": "markdown",
   "metadata": {},
   "source": [
    "# Description of Data from Experiment"
   ]
  },
  {
   "cell_type": "markdown",
   "metadata": {},
   "source": [
    "## Data Collection\n",
    "\n",
    "Describe how you collect your data and the reasoning behind such approach.\n",
    "\n",
    "How data is collected:\n",
    "1. If the water is higher temperature than the room, wait for the temperature increase to 26 degrees celcius, if not wait for the water to decrease to 24 degrees celcius\n",
    "2. Every second afterward, record the temperature of the water with the sensor.\n",
    "3. Wait for 2 minutes and record the temperature of the water with the thermometer\n",
    "\n",
    "Reasoning:\n",
    "1. It is imperative that the starting temperature is always the same. Hence we write the program such that it starts at 26 degrees celcius, or 24 degrees celcius, making a constant starting point for both increasing and decreasing of temperatures\n",
    "2. By collecting the data at every second, we are able to have more data points and thus more accurately determine the final temperature\n",
    "3. Waiting 2 minutes should suffice for the thermometer to come within 0.1 degrees celcius of the actual water temperature, allowing us to know the actual temperature\n"
   ]
  },
  {
   "cell_type": "markdown",
   "metadata": {},
   "source": [
    "## Data Preparation\n",
    "\n",
    "The data is prepared in a .txt file in the below format (Not actual result):\n",
    "```\n",
    "Experiment\n",
    "Final Temp: 37\n",
    "1     24.2\n",
    "2     25.2\n",
    "3     26.2\n",
    "4     27.2\n",
    "5     28.2\n",
    "6     29.2\n",
    "7     30.2\n",
    "8     31.2\n",
    "9     32.2\n",
    "10    33.2\n",
    "\n",
    "Experiment\n",
    "Final Temp: 37\n",
    "1     24.2\n",
    "2     25.2\n",
    "3     26.2\n",
    "4     27.2\n",
    "5     28.2\n",
    "6     29.2\n",
    "7     30.2\n",
    "8     31.2\n",
    "9     32.2\n",
    "10    33.2\n",
    "```\n",
    "Subsequent experiments will also be appended to the text file accordingly. This format allows us to easily code a program to store these values"
   ]
  },
  {
   "cell_type": "markdown",
   "metadata": {},
   "source": [
    "## Data Format\n",
    "\n",
    "Describe your data and its features. Include any codes or visualization of data.\n",
    "\n",
    "When our model is trained, it is plotted on a 11 dimensional hyperplane which best fits the data provided.\n",
    "\n",
    "When 10 dimensions of temperature corresponding to each second mark is provided, it then places these points on the hyperplane and determines the corresponsind 11th dimension of final temperature."
   ]
  },
  {
   "cell_type": "markdown",
   "metadata": {},
   "source": [
    "# Training Model\n",
    "\n",
    "Describe how you train your model. Include any code and output"
   ]
  },
  {
   "cell_type": "markdown",
   "metadata": {},
   "source": [
    "# Verification and Accuracy\n",
    "\n",
    "Describe how you check the accuracy of your model and its result. State any analysis you have and the steps you have taken to improve its accuracy."
   ]
  },
  {
   "cell_type": "markdown",
   "metadata": {},
   "source": [
    "# Example Scripts"
   ]
  },
  {
   "cell_type": "markdown",
   "metadata": {},
   "source": [
    "Instruction:\n",
    "\n",
    "* Read an excel file with the following format:\n",
    "```\n",
    "time (s)\treading\n",
    "0.00\t    25.812\n",
    "0.90\t    28.562\n",
    "1.79\t    31.875\n",
    "2.68\t    35.062\n",
    "3.55\t    37.937\n",
    "4.43\t    40.687\n",
    "5.30\t    43.25\n",
    "```\n",
    "where the first column indicates the time in seconds and the second column indicates the sensor reading in Celsius. \n",
    "* Write a code to prepare the data, extract the features.\n",
    "* Write a code to split the data.\n",
    "* Write a code to train the model.\n",
    "* Write a code to predict the final temperature.\n",
    "* Write a code to check accuracy.\n",
    "\n",
    "**The script below is just for your example. You don't have to use it and you can write your own script.**\n",
    "\n"
   ]
  },
  {
   "cell_type": "code",
   "execution_count": 1,
   "metadata": {},
   "outputs": [
    {
     "ename": "ImportError",
     "evalue": "No module named 'sklearn'",
     "output_type": "error",
     "traceback": [
      "\u001b[1;31m---------------------------------------------------------------------------\u001b[0m",
      "\u001b[1;31mImportError\u001b[0m                               Traceback (most recent call last)",
      "\u001b[1;32m<ipython-input-1-1c90cacb0441>\u001b[0m in \u001b[0;36m<module>\u001b[1;34m()\u001b[0m\n\u001b[0;32m      1\u001b[0m \u001b[1;31m#Necessary Imports\u001b[0m\u001b[1;33m\u001b[0m\u001b[1;33m\u001b[0m\u001b[0m\n\u001b[0;32m      2\u001b[0m \u001b[1;32mimport\u001b[0m \u001b[0mnumpy\u001b[0m \u001b[1;32mas\u001b[0m \u001b[0mnp\u001b[0m\u001b[1;33m\u001b[0m\u001b[0m\n\u001b[1;32m----> 3\u001b[1;33m \u001b[1;32mfrom\u001b[0m \u001b[0msklearn\u001b[0m \u001b[1;32mimport\u001b[0m \u001b[0mlinear_model\u001b[0m\u001b[1;33m\u001b[0m\u001b[0m\n\u001b[0m\u001b[0;32m      4\u001b[0m \u001b[1;32mfrom\u001b[0m \u001b[0msklearn\u001b[0m\u001b[1;33m.\u001b[0m\u001b[0mmetrics\u001b[0m \u001b[1;32mimport\u001b[0m \u001b[0mmean_squared_error\u001b[0m\u001b[1;33m,\u001b[0m \u001b[0mr2_score\u001b[0m\u001b[1;33m\u001b[0m\u001b[0m\n\u001b[0;32m      5\u001b[0m \u001b[1;32mfrom\u001b[0m \u001b[0msklearn\u001b[0m\u001b[1;33m.\u001b[0m\u001b[0mmodel_selection\u001b[0m \u001b[1;32mimport\u001b[0m \u001b[0mtrain_test_split\u001b[0m\u001b[1;33m\u001b[0m\u001b[0m\n",
      "\u001b[1;31mImportError\u001b[0m: No module named 'sklearn'"
     ]
    }
   ],
   "source": [
    "#Necessary Imports\n",
    "import numpy as np\n",
    "from sklearn import linear_model \n",
    "from sklearn.metrics import mean_squared_error, r2_score\n",
    "from sklearn.model_selection import train_test_split\n",
    "from sklearn.preprocessing import PolynomialFeatures"
   ]
  },
  {
   "cell_type": "code",
   "execution_count": null,
   "metadata": {},
   "outputs": [],
   "source": [
    "filename = 'NUDES'\n",
    "\n",
    "# code to read txt file\n",
    "\n",
    "# open the file\n",
    "f = open('{}.txt'.format(filename),'r')\n",
    "\n",
    "#create an array to store the data\n",
    "data = [['final temp','1s','2s','3s','4s','5s','6s','7s','8s','9s','10s']]\n",
    "\n",
    "# iterate through the lines in the file\n",
    "for line in f:\n",
    "    if line.strip() == 'Experiment:':\n",
    "        data_row = []\n",
    "        \n",
    "        #Get the final temp\n",
    "        final_temp_line = f.readline()\n",
    "        final_temp_array = final_temp_line.split(\" \")\n",
    "        final_temp = final_temp_array[2].strip()\n",
    "        data_row.append(final_temp)\n",
    "        \n",
    "        \n",
    "        #Get the individual temp\n",
    "        for i in range(10):\n",
    "            temp_line = f.readline()\n",
    "            temp_array = temp_line.split(\" \")\n",
    "            temp_at_time = temp_array[1].strip()\n",
    "            data_row.append(temp_at_time)\n",
    "        \n",
    "        data.append(data_row)\n",
    "\n",
    "print(data)\n",
    "f.close()"
   ]
  },
  {
   "cell_type": "code",
   "execution_count": null,
   "metadata": {},
   "outputs": [],
   "source": [
    "def preprocess(data):\n",
    "    #save the dataset\n",
    "    dataset = data\n",
    "    #split into x and y\n",
    "    x_data = []\n",
    "    y_data = []\n",
    "    for row_no in range(1,len(dataset)):\n",
    "        y_data.append(dataset[row_no][0])\n",
    "        x_data_row = []\n",
    "        for col_no in range(1,len(dataset[0])):\n",
    "            x_data_row.append(dataset[row_no][col_no])\n",
    "        x_data.append(x_data_row)\n",
    "#     x_data = dataset[1:,1:]\n",
    "#     y_data = dataset[1:,0]\n",
    "    return x_data,y_data\n",
    "\n",
    "x_data,y_data = preprocess(data)\n",
    "print(x_data,y_data)"
   ]
  },
  {
   "cell_type": "code",
   "execution_count": null,
   "metadata": {},
   "outputs": [],
   "source": [
    "# write a code to split the data to train and test\n",
    "def prepare_train_test(data,percentage_for_test):\n",
    "    x_data,y_data = preprocess(data)\n",
    "    #split further into testdata and practice data\n",
    "    x_train,x_test,y_train,y_test = train_test_split(x_data,\\\n",
    "                                                     y_data,\\\n",
    "                                                     test_size = percentage_for_test)\n",
    "    x_train =  np.array(x_train).astype(float)\n",
    "    x_test =  np.array(x_test).astype(float)\n",
    "    y_train =  np.array(y_train).astype(float)\n",
    "    y_test =  np.array(y_test).astype(float) \n",
    "    \n",
    "    return x_train,x_test,y_train,y_test\n",
    "\n",
    "print(prepare_train_test(data,0.5))"
   ]
  },
  {
   "cell_type": "code",
   "execution_count": null,
   "metadata": {},
   "outputs": [],
   "source": [
    "# write a code to train the model\n",
    "# the function should return the trained model\n",
    "def train_model(data, percentage_for_test):\n",
    "    \n",
    "    x_train,x_test,y_train,y_test = prepare_train_test(data,percentage_for_test)\n",
    "    \n",
    "    #create the linear regression model\n",
    "    model = linear_model.LinearRegression()\n",
    "    model.fit(x_train,y_train)\n",
    "    #predict the y values for a given c\n",
    "    print(x_test)\n",
    "    y_pred = model.predict(x_test)\n",
    "#     print(y_pred)\n",
    "    \n",
    "    #calculate the R2,MSE,coef and intercept\n",
    "    MSE = mean_squared_error(y_test, y_pred)\n",
    "    R2 = r2_score(y_test,y_pred)\n",
    "    coef = model.coef_\n",
    "    intercept = model.intercept_\n",
    "    #generate the results dictionary\n",
    "    \n",
    "    \n",
    "    abs_error_vector = np.abs(y_test - y_pred)\n",
    "    print('the abs error is ' + str(abs_error_vector))\n",
    "    \n",
    "    results = {\"mean squared error\" : MSE,\n",
    "               \"intercept\" : intercept,\n",
    "               \"coefficients\" : coef,\n",
    "               \"r2 score\" : R2}\n",
    "    return results,model\n",
    "\n",
    "results,model = train_model(data,0.05)\n",
    "print(results)"
   ]
  },
  {
   "cell_type": "code",
   "execution_count": null,
   "metadata": {},
   "outputs": [],
   "source": [
    "# write a code to predict the final temperature\n",
    "# store the predicted temperature in a variable called \"predicted\"\n",
    "# predicted is a dictionary where the keys are listed in filekey\n",
    "\n",
    "predicted = {}\n",
    "for key in filekeys:\n",
    "    predicted[key]=model.predict(data_test[key])"
   ]
  },
  {
   "cell_type": "code",
   "execution_count": null,
   "metadata": {},
   "outputs": [],
   "source": [
    "# write a code to check your accuracy\n",
    "\n",
    "prediction = [[27.875,29.875,30.937,31.625,32.062,32.437,32.437,32.937,33.125,33.312]]\n",
    "\n",
    "prediction = np.array(prediction).astype(float)\n",
    "\n",
    "print(prediction)\n",
    "result = model.predict(prediction)\n",
    "print(result)"
   ]
  },
  {
   "cell_type": "code",
   "execution_count": null,
   "metadata": {},
   "outputs": [],
   "source": []
  }
 ],
 "metadata": {
  "kernelspec": {
   "display_name": "Python 3",
   "language": "python",
   "name": "python3"
  },
  "language_info": {
   "codemirror_mode": {
    "name": "ipython",
    "version": 3
   },
   "file_extension": ".py",
   "mimetype": "text/x-python",
   "name": "python",
   "nbconvert_exporter": "python",
   "pygments_lexer": "ipython3",
   "version": "3.5.0"
  }
 },
 "nbformat": 4,
 "nbformat_minor": 2
}
