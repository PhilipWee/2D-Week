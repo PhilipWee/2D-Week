{
 "cells": [
  {
   "cell_type": "markdown",
   "metadata": {},
   "source": [
    "# Report for 2D Project Physical World and Digital World\n",
    "\n",
    "Cohort: F07\n",
    "\n",
    "Team No.: # Enter your team number\n",
    "\n",
    "Members:\n",
    "* Philip Andrew Wee De Wang (1003342)\n",
    "* Nicholas Lim Jun Yuan ()\n",
    "* Stephen Alvin (1003309)\n",
    "* Bhuvaneswari Sithanathan (1003798)\n"
   ]
  },
  {
   "cell_type": "markdown",
   "metadata": {},
   "source": [
    "# Introduction\n",
    "\n",
    "Write your introduction here. Describe the problem you want to solve and a brief of your approach and summary of your result.\n",
    "\n",
    "Problem:\n",
    "We wish to measure the temperature of a bottle, but we only wish to use the first 10 seconds of data in order to obtain the temperature at the 2 minute mark within 0.1 degrees celcius accuracy.\n",
    "\n",
    "Approach:\n",
    "We will measure the temperature every second for 10 seconds, starting at 25 degrees celcius and at the end of 10 seconds we will run the collected data through our trained model to predict the temperature at the 2 minute mark\n",
    "\n",
    "Summary:\n",
    "\n"
   ]
  },
  {
   "cell_type": "markdown",
   "metadata": {},
   "source": [
    "# Description of Data from Experiment"
   ]
  },
  {
   "cell_type": "markdown",
   "metadata": {},
   "source": [
    "## Data Collection\n",
    "\n",
    "Describe how you collect your data and the reasoning behind such approach.\n",
    "\n",
    "How data is collected:\n",
    "1. If the water is higher temperature than the room, wait for the temperature increase to 26 degrees celcius, if not wait for the water to decrease to 24 degrees celcius\n",
    "2. Every second afterward, record the temperature of the water with the sensor.\n",
    "3. Wait for 2 minutes and record the temperature of the water with the thermometer\n",
    "\n",
    "Reasoning:\n",
    "1. It is imperative that the starting temperature is always the same. Hence we write the program such that it starts at 26 degrees celcius, or 24 degrees celcius, making a constant starting point for both increasing and decreasing of temperatures\n",
    "2. By collecting the data at every second, we are able to have more data points and thus more accurately determine the final temperature\n",
    "3. Waiting 2 minutes should suffice for the thermometer to come within 0.1 degrees celcius of the actual water temperature, allowing us to know the actual temperature\n"
   ]
  },
  {
   "cell_type": "markdown",
   "metadata": {},
   "source": [
    "## Data Preparation\n",
    "\n",
    "The data is prepared in a .txt file in the below format (Not actual result):\n",
    "```\n",
    "Experiment\n",
    "Final Temp: 37\n",
    "1     24.2\n",
    "2     25.2\n",
    "3     26.2\n",
    "4     27.2\n",
    "5     28.2\n",
    "6     29.2\n",
    "7     30.2\n",
    "8     31.2\n",
    "9     32.2\n",
    "10    33.2\n",
    "\n",
    "Experiment\n",
    "Final Temp: 37\n",
    "1     24.2\n",
    "2     25.2\n",
    "3     26.2\n",
    "4     27.2\n",
    "5     28.2\n",
    "6     29.2\n",
    "7     30.2\n",
    "8     31.2\n",
    "9     32.2\n",
    "10    33.2\n",
    "```\n",
    "Subsequent experiments will also be appended to the text file accordingly. This format allows us to easily code a program to store these values"
   ]
  },
  {
   "cell_type": "markdown",
   "metadata": {},
   "source": [
    "## Data Format\n",
    "\n",
    "Describe your data and its features. Include any codes or visualization of data.\n",
    "\n",
    "When our model is trained, it is plotted on a 11 dimensional hyperplane which best fits the data provided.\n",
    "\n",
    "When 10 dimensions of temperature corresponding to each second mark is provided, it then places these points on the hyperplane and determines the corresponsind 11th dimension of final temperature."
   ]
  },
  {
   "cell_type": "markdown",
   "metadata": {},
   "source": [
    "# Training Model\n",
    "\n",
    "Describe how you train your model. Include any code and output"
   ]
  },
  {
   "cell_type": "markdown",
   "metadata": {},
   "source": [
    "# Verification and Accuracy\n",
    "\n",
    "Describe how you check the accuracy of your model and its result. State any analysis you have and the steps you have taken to improve its accuracy."
   ]
  },
  {
   "cell_type": "markdown",
   "metadata": {},
   "source": [
    "# Example Scripts"
   ]
  },
  {
   "cell_type": "markdown",
   "metadata": {},
   "source": [
    "Instruction:\n",
    "\n",
    "* Read an excel file with the following format:\n",
    "```\n",
    "time (s)\treading\n",
    "0.00\t    25.812\n",
    "0.90\t    28.562\n",
    "1.79\t    31.875\n",
    "2.68\t    35.062\n",
    "3.55\t    37.937\n",
    "4.43\t    40.687\n",
    "5.30\t    43.25\n",
    "```\n",
    "where the first column indicates the time in seconds and the second column indicates the sensor reading in Celsius. \n",
    "* Write a code to prepare the data, extract the features.\n",
    "* Write a code to split the data.\n",
    "* Write a code to train the model.\n",
    "* Write a code to predict the final temperature.\n",
    "* Write a code to check accuracy.\n",
    "\n",
    "**The script below is just for your example. You don't have to use it and you can write your own script.**\n",
    "\n"
   ]
  },
  {
   "cell_type": "code",
   "execution_count": 2,
   "metadata": {},
   "outputs": [],
   "source": [
    "#Necessary Imports\n",
    "import numpy as np\n",
    "from sklearn import linear_model \n",
    "from sklearn.metrics import mean_squared_error, r2_score\n",
    "from sklearn.model_selection import train_test_split\n",
    "from sklearn.preprocessing import PolynomialFeatures\n",
    "import matplotlib.pyplot as plt"
   ]
  },
  {
   "cell_type": "code",
   "execution_count": 3,
   "metadata": {},
   "outputs": [
    {
     "name": "stdout",
     "output_type": "stream",
     "text": [
      "[['final temp' '1s' '2s' '3s' '4s' '5s' '6s' '7s' '8s' '9s' '10s']\n",
      " ['14.5' '22.625' '21.812' '21.062' '20.375' '19.812' '19.375' '18.875'\n",
      "  '18.5' '18.125' '17.812']\n",
      " ['19.937' '23.062' '22.437' '22.0' '21.687' '21.375' '21.187' '21.0'\n",
      "  '20.875' '20.75' '20.687']\n",
      " ['25.0' '24.125' '24.187' '24.25' '24.312' '24.375' '24.375' '24.437'\n",
      "  '24.5' '24.5' '24.562']\n",
      " ['33.812' '29.562' '30.75' '31.5' '32.0' '32.375' '32.687' '32.875'\n",
      "  '33.062' '33.187' '33.312']\n",
      " ['45.5' '32.375' '35.562' '37.75' '39.312' '40.562' '41.437' '42.187'\n",
      "  '42.75' '43.187' '43.562']\n",
      " ['52.812' '36.875' '40.75' '43.5' '45.562' '47.125' '48.312' '49.25'\n",
      "  '50.0' '50.562' '51.0']\n",
      " ['31.75' '26.875' '27.562' '28.375' '28.75' '29.187' '29.5' '29.687'\n",
      "  '30.0' '30.125' '30.312']\n",
      " ['61.812' '44.0' '49.062' '51.5' '55.562' '56.75' '58.687' '59.312'\n",
      "  '60.062' '60.375' '60.812']\n",
      " ['34.625' '27.875' '29.875' '30.937' '31.625' '32.062' '32.437' '32.687'\n",
      "  '32.937' '33.125' '33.312']\n",
      " ['36.812' '30.375' '32.125' '33.25' '34.0' '34.625' '35.187' '35.562'\n",
      "  '35.875' '36.062' '36.187']\n",
      " ['39.875' '32.437' '34.5' '35.875' '36.875' '37.562' '38.125' '38.5'\n",
      "  '38.812' '39.062' '39.25']\n",
      " ['49.625' '38.25' '40.625' '42.812' '43.75' '44.562' '45.187' '45.75'\n",
      "  '46.25' '46.75' '47.062']\n",
      " ['56.0' '39.125' '43.312' '46.187' '48.187' '49.75' '50.875' '51.812'\n",
      "  '52.5' '53.125' '53.625']\n",
      " ['60.625' '44.937' '48.937' '51.5' '53.562' '55.062' '56.312' '57.312'\n",
      "  '58.0' '58.562' '59.0']]\n"
     ]
    }
   ],
   "source": [
    "filename = 'NUDES'\n",
    "\n",
    "# code to read txt file\n",
    "\n",
    "# open the file\n",
    "f = open('{}.txt'.format(filename),'r')\n",
    "\n",
    "#create an array to store the data\n",
    "data = [['final temp','1s','2s','3s','4s','5s','6s','7s','8s','9s','10s']]\n",
    "\n",
    "# iterate through the lines in the file\n",
    "for line in f:\n",
    "    if line.strip() == 'Experiment:':\n",
    "        data_row = []\n",
    "        \n",
    "        #Get the final temp\n",
    "        final_temp_line = f.readline()\n",
    "        final_temp_array = final_temp_line.split(\" \")\n",
    "        final_temp = final_temp_array[2].strip()\n",
    "        data_row.append(final_temp)\n",
    "        \n",
    "        \n",
    "        #Get the individual temp\n",
    "        for i in range(10):\n",
    "            temp_line = f.readline()\n",
    "            temp_array = temp_line.split(\" \")\n",
    "            temp_at_time = temp_array[1].strip()\n",
    "            data_row.append(temp_at_time)\n",
    "        \n",
    "        data.append(data_row)\n",
    "\n",
    "print(np.array(data))\n",
    "f.close()"
   ]
  },
  {
   "cell_type": "code",
   "execution_count": 4,
   "metadata": {},
   "outputs": [
    {
     "name": "stdout",
     "output_type": "stream",
     "text": [
      "14.5\n",
      "19.937\n",
      "25.0\n",
      "33.812\n",
      "45.5\n",
      "52.812\n",
      "31.75\n",
      "61.812\n",
      "34.625\n",
      "36.812\n",
      "39.875\n",
      "49.625\n",
      "56.0\n",
      "60.625\n",
      "[['22.625' '21.812' '21.062' '20.375' '19.812' '19.375' '18.875' '18.5'\n",
      "  '18.125' '17.812']\n",
      " ['23.062' '22.437' '22.0' '21.687' '21.375' '21.187' '21.0' '20.875'\n",
      "  '20.75' '20.687']\n",
      " ['24.125' '24.187' '24.25' '24.312' '24.375' '24.375' '24.437' '24.5'\n",
      "  '24.5' '24.562']\n",
      " ['29.562' '30.75' '31.5' '32.0' '32.375' '32.687' '32.875' '33.062'\n",
      "  '33.187' '33.312']\n",
      " ['32.375' '35.562' '37.75' '39.312' '40.562' '41.437' '42.187' '42.75'\n",
      "  '43.187' '43.562']\n",
      " ['36.875' '40.75' '43.5' '45.562' '47.125' '48.312' '49.25' '50.0'\n",
      "  '50.562' '51.0']\n",
      " ['26.875' '27.562' '28.375' '28.75' '29.187' '29.5' '29.687' '30.0'\n",
      "  '30.125' '30.312']\n",
      " ['44.0' '49.062' '51.5' '55.562' '56.75' '58.687' '59.312' '60.062'\n",
      "  '60.375' '60.812']\n",
      " ['27.875' '29.875' '30.937' '31.625' '32.062' '32.437' '32.687' '32.937'\n",
      "  '33.125' '33.312']\n",
      " ['30.375' '32.125' '33.25' '34.0' '34.625' '35.187' '35.562' '35.875'\n",
      "  '36.062' '36.187']\n",
      " ['32.437' '34.5' '35.875' '36.875' '37.562' '38.125' '38.5' '38.812'\n",
      "  '39.062' '39.25']\n",
      " ['38.25' '40.625' '42.812' '43.75' '44.562' '45.187' '45.75' '46.25'\n",
      "  '46.75' '47.062']\n",
      " ['39.125' '43.312' '46.187' '48.187' '49.75' '50.875' '51.812' '52.5'\n",
      "  '53.125' '53.625']\n",
      " ['44.937' '48.937' '51.5' '53.562' '55.062' '56.312' '57.312' '58.0'\n",
      "  '58.562' '59.0']] ['14.5', '19.937', '25.0', '33.812', '45.5', '52.812', '31.75', '61.812', '34.625', '36.812', '39.875', '49.625', '56.0', '60.625']\n"
     ]
    }
   ],
   "source": [
    "def preprocess(data):\n",
    "    #save the dataset\n",
    "    dataset = data\n",
    "    #split into x and y\n",
    "    x_data = []\n",
    "    y_data = []\n",
    "    for row_no in range(1,len(dataset)):\n",
    "        print(dataset[row_no][0])\n",
    "        y_data.append(dataset[row_no][0])\n",
    "        x_data_row = []\n",
    "        for col_no in range(1,len(dataset[0])):\n",
    "            x_data_row.append(dataset[row_no][col_no])\n",
    "        x_data.append(x_data_row)\n",
    "#     x_data = dataset[1:,1:]\n",
    "#     y_data = dataset[1:,0]\n",
    "    return x_data,y_data\n",
    "\n",
    "x_data,y_data = preprocess(data)\n",
    "print(np.array(x_data),y_data)"
   ]
  },
  {
   "cell_type": "code",
   "execution_count": 5,
   "metadata": {},
   "outputs": [
    {
     "name": "stdout",
     "output_type": "stream",
     "text": [
      "Input which row to check: 3\n",
      "['14.5', '19.937', '25.0', '33.812', '45.5', '52.812', '31.75', '61.812', '34.625', '36.812', '39.875', '49.625', '56.0', '60.625']\n",
      "[[20.375 21.687 24.312 32.    39.312 45.562 28.75  55.562 31.625 34.\n",
      "  36.875 43.75  48.187 53.562]\n",
      " [14.5   19.937 25.    33.812 45.5   52.812 31.75  61.812 34.625 36.812\n",
      "  39.875 49.625 56.    60.625]]\n"
     ]
    },
    {
     "data": {
      "image/png": "[encoded data removed]",
      "text/plain": [
       "<Figure size 800x800 with 1 Axes>"
      ]
     },
     "metadata": {},
     "output_type": "display_data"
    }
   ],
   "source": [
    "# Create data\n",
    "z = int(input(\"Input which row to check: \"))\n",
    "x_col = np.array(x_data)[:,z].astype(float)\n",
    "\n",
    "print(y_data)\n",
    "y = [float(i) for i in y_data]\n",
    "\n",
    "visual_data = np.array([x_col,y])\n",
    "print(visual_data)\n",
    "\n",
    "fig=plt.figure(figsize=(10, 10), dpi= 80, facecolor='w', edgecolor='k')\n",
    "# Plot\n",
    "plt.scatter(x_col, y)\n",
    "plt.title('Scatter plot pythonspot.com')\n",
    "plt.xlabel('column {}'.format(z))\n",
    "plt.ylabel('temp')\n",
    "for i_x, i_y in zip(x_col, y):\n",
    "    plt.text(i_x, i_y, '({}, {})'.format(i_x, i_y))\n",
    "plt.show()\n"
   ]
  },
  {
   "cell_type": "code",
   "execution_count": 6,
   "metadata": {},
   "outputs": [
    {
     "name": "stdout",
     "output_type": "stream",
     "text": [
      "14.5\n",
      "19.937\n",
      "25.0\n",
      "33.812\n",
      "45.5\n",
      "52.812\n",
      "31.75\n",
      "61.812\n",
      "34.625\n",
      "36.812\n",
      "39.875\n",
      "49.625\n",
      "56.0\n",
      "60.625\n",
      "(array([[36.875, 40.75 , 43.5  , 45.562, 47.125, 48.312, 49.25 , 50.   ,\n",
      "        50.562, 51.   ],\n",
      "       [39.125, 43.312, 46.187, 48.187, 49.75 , 50.875, 51.812, 52.5  ,\n",
      "        53.125, 53.625],\n",
      "       [24.125, 24.187, 24.25 , 24.312, 24.375, 24.375, 24.437, 24.5  ,\n",
      "        24.5  , 24.562],\n",
      "       [23.062, 22.437, 22.   , 21.687, 21.375, 21.187, 21.   , 20.875,\n",
      "        20.75 , 20.687],\n",
      "       [44.   , 49.062, 51.5  , 55.562, 56.75 , 58.687, 59.312, 60.062,\n",
      "        60.375, 60.812],\n",
      "       [26.875, 27.562, 28.375, 28.75 , 29.187, 29.5  , 29.687, 30.   ,\n",
      "        30.125, 30.312],\n",
      "       [27.875, 29.875, 30.937, 31.625, 32.062, 32.437, 32.687, 32.937,\n",
      "        33.125, 33.312]]), array([[32.375, 35.562, 37.75 , 39.312, 40.562, 41.437, 42.187, 42.75 ,\n",
      "        43.187, 43.562],\n",
      "       [44.937, 48.937, 51.5  , 53.562, 55.062, 56.312, 57.312, 58.   ,\n",
      "        58.562, 59.   ],\n",
      "       [32.437, 34.5  , 35.875, 36.875, 37.562, 38.125, 38.5  , 38.812,\n",
      "        39.062, 39.25 ],\n",
      "       [29.562, 30.75 , 31.5  , 32.   , 32.375, 32.687, 32.875, 33.062,\n",
      "        33.187, 33.312],\n",
      "       [30.375, 32.125, 33.25 , 34.   , 34.625, 35.187, 35.562, 35.875,\n",
      "        36.062, 36.187],\n",
      "       [22.625, 21.812, 21.062, 20.375, 19.812, 19.375, 18.875, 18.5  ,\n",
      "        18.125, 17.812],\n",
      "       [38.25 , 40.625, 42.812, 43.75 , 44.562, 45.187, 45.75 , 46.25 ,\n",
      "        46.75 , 47.062]]), array([52.812, 56.   , 25.   , 19.937, 61.812, 31.75 , 34.625]), array([45.5  , 60.625, 39.875, 33.812, 36.812, 14.5  , 49.625]))\n"
     ]
    }
   ],
   "source": [
    "# write a code to split the data to train and test\n",
    "def prepare_train_test(data,percentage_for_test):\n",
    "    x_data,y_data = preprocess(data)\n",
    "    #split further into testdata and practice data\n",
    "    x_train,x_test,y_train,y_test = train_test_split(x_data,\\\n",
    "                                                     y_data,\\\n",
    "                                                     test_size = percentage_for_test)\n",
    "    x_train =  np.array(x_train).astype(float)\n",
    "    x_test =  np.array(x_test).astype(float)\n",
    "    y_train =  np.array(y_train).astype(float)\n",
    "    y_test =  np.array(y_test).astype(float) \n",
    "    \n",
    "    return x_train,x_test,y_train,y_test\n",
    "\n",
    "print(prepare_train_test(data,0.5))"
   ]
  },
  {
   "cell_type": "code",
   "execution_count": 7,
   "metadata": {},
   "outputs": [
    {
     "name": "stdout",
     "output_type": "stream",
     "text": [
      "14.5\n",
      "19.937\n",
      "25.0\n",
      "33.812\n",
      "45.5\n",
      "52.812\n",
      "31.75\n",
      "61.812\n",
      "34.625\n",
      "36.812\n",
      "39.875\n",
      "49.625\n",
      "56.0\n",
      "60.625\n",
      "[[32.375 35.562 37.75  39.312 40.562 41.437 42.187 42.75  43.187 43.562]\n",
      " [36.875 40.75  43.5   45.562 47.125 48.312 49.25  50.    50.562 51.   ]]\n",
      "the abs error is [0.01281573 0.82505062]\n",
      "{'mean squared error': 0.34043638211806865, 'intercept': 1.0551732703765069, 'coefficients': array([ -0.67167956,   2.27741295,  -2.19102809,   2.23434701,\n",
      "         2.19713761,  -2.40197962, -13.93853037,   5.10329144,\n",
      "         8.44074739,  -0.09636872]), 'r2 score': 0.9745303139081594}\n"
     ]
    }
   ],
   "source": [
    "# write a code to train the model\n",
    "# the function should return the trained model\n",
    "def train_model(data, percentage_for_test):\n",
    "    \n",
    "    x_train,x_test,y_train,y_test = prepare_train_test(data,percentage_for_test)\n",
    "    \n",
    "    #create the linear regression model\n",
    "    model = linear_model.LinearRegression()\n",
    "    model.fit(x_train,y_train)\n",
    "    #predict the y values for a given c\n",
    "    print(x_test)\n",
    "    y_pred = model.predict(x_test)\n",
    "#     print(y_pred)\n",
    "    \n",
    "    #calculate the R2,MSE,coef and intercept\n",
    "    MSE = mean_squared_error(y_test, y_pred)\n",
    "    R2 = r2_score(y_test,y_pred)\n",
    "    coef = model.coef_\n",
    "    intercept = model.intercept_\n",
    "    #generate the results dictionary\n",
    "    \n",
    "    \n",
    "    abs_error_vector = np.abs(y_test - y_pred)\n",
    "    print('the abs error is ' + str(abs_error_vector))\n",
    "    \n",
    "    results = {\"mean squared error\" : MSE,\n",
    "               \"intercept\" : intercept,\n",
    "               \"coefficients\" : coef,\n",
    "               \"r2 score\" : R2}\n",
    "    return results,model\n",
    "\n",
    "results,model = train_model(data,0.1)\n",
    "print(results)"
   ]
  },
  {
   "cell_type": "code",
   "execution_count": 8,
   "metadata": {},
   "outputs": [
    {
     "name": "stdout",
     "output_type": "stream",
     "text": [
      "[[27.875 29.875 30.937 31.625 32.062 32.437 32.437 32.937 33.125 33.312]]\n",
      "[38.13134193]\n"
     ]
    }
   ],
   "source": [
    "# write a code to check your accuracy\n",
    "\n",
    "prediction = [[27.875,29.875,30.937,31.625,32.062,32.437,32.437,32.937,33.125,33.312]]\n",
    "\n",
    "prediction = np.array(prediction).astype(float)\n",
    "\n",
    "print(prediction)\n",
    "result = model.predict(prediction)\n",
    "print(result)"
   ]
  },
  {
   "cell_type": "code",
   "execution_count": null,
   "metadata": {},
   "outputs": [],
   "source": [
    "#run the kivy"
   ]
  }
 ],
 "metadata": {
  "kernelspec": {
   "display_name": "Python 3",
   "language": "python",
   "name": "python3"
  },
  "language_info": {
   "codemirror_mode": {
    "name": "ipython",
    "version": 3
   },
   "file_extension": ".py",
   "mimetype": "text/x-python",
   "name": "python",
   "nbconvert_exporter": "python",
   "pygments_lexer": "ipython3",
   "version": "3.7.0"
  }
 },
 "nbformat": 4,
 "nbformat_minor": 2
}
