{
 "cells": [
  {
   "cell_type": "markdown",
   "metadata": {},
   "source": [
    "# Report for 2D Project Physical World and Digital World\n",
    "\n",
    "Cohort: F07\n",
    "\n",
    "Team No.: # Enter your team number\n",
    "\n",
    "Members:\n",
    "* Philip Andrew Wee De Wang (1003342)\n",
    "* Nicholas Lim Jun Yuan ()\n",
    "* Stephen Alvin (1003309)\n",
    "* Bhuvaneswari Sithanathan (1003798)\n"
   ]
  },
  {
   "cell_type": "markdown",
   "metadata": {},
   "source": [
    "# Introduction\n",
    "\n",
    "Write your introduction here. Describe the problem you want to solve and a brief of your approach and summary of your result.\n",
    "\n",
    "Problem:\n",
    "We wish to measure the temperature of a bottle, but we only wish to use the first 10 seconds of data in order to obtain the temperature at the 2 minute mark within 0.1 degrees celcius accuracy.\n",
    "\n",
    "Approach:\n",
    "We will measure the temperature every second for 10 seconds, starting at 25 degrees celcius and at the end of 10 seconds we will run the collected data through our trained model to predict the temperature at the 2 minute mark\n",
    "\n",
    "Summary:\n",
    "\n"
   ]
  },
  {
   "cell_type": "markdown",
   "metadata": {},
   "source": [
    "# Description of Data from Experiment"
   ]
  },
  {
   "cell_type": "markdown",
   "metadata": {},
   "source": [
    "## Data Collection\n",
    "\n",
    "Describe how you collect your data and the reasoning behind such approach.\n",
    "\n",
    "How data is collected:\n",
    "1. If the water is higher temperature than the room, wait for the temperature increase to 26 degrees celcius, if not wait for the water to decrease to 24 degrees celcius\n",
    "2. Every second afterward, record the temperature of the water with the sensor.\n",
    "3. Wait for 2 minutes and record the temperature of the water with the thermometer\n",
    "\n",
    "Reasoning:\n",
    "1. It is imperative that the starting temperature is always the same. Hence we write the program such that it starts at 26 degrees celcius, or 24 degrees celcius, making a constant starting point for both increasing and decreasing of temperatures\n",
    "2. By collecting the data at every second, we are able to have more data points and thus more accurately determine the final temperature\n",
    "3. Waiting 2 minutes should suffice for the thermometer to come within 0.1 degrees celcius of the actual water temperature, allowing us to know the actual temperature\n"
   ]
  },
  {
   "cell_type": "markdown",
   "metadata": {},
   "source": [
    "## Data Preparation\n",
    "\n",
    "The data is prepared in a .txt file in the below format (Not actual result):\n",
    "```\n",
    "Experiment\n",
    "Final Temp: 37\n",
    "1     24.2\n",
    "2     25.2\n",
    "3     26.2\n",
    "4     27.2\n",
    "5     28.2\n",
    "6     29.2\n",
    "7     30.2\n",
    "8     31.2\n",
    "9     32.2\n",
    "10    33.2\n",
    "\n",
    "Experiment\n",
    "Final Temp: 37\n",
    "1     24.2\n",
    "2     25.2\n",
    "3     26.2\n",
    "4     27.2\n",
    "5     28.2\n",
    "6     29.2\n",
    "7     30.2\n",
    "8     31.2\n",
    "9     32.2\n",
    "10    33.2\n",
    "```\n",
    "Subsequent experiments will also be appended to the text file accordingly. This format allows us to easily code a program to store these values"
   ]
  },
  {
   "cell_type": "markdown",
   "metadata": {},
   "source": [
    "## Data Format\n",
    "\n",
    "Describe your data and its features. Include any codes or visualization of data.\n",
    "\n",
    "When our model is trained, it is plotted on a 11 dimensional hyperplane which best fits the data provided.\n",
    "\n",
    "When 10 dimensions of temperature corresponding to each second mark is provided, it then places these points on the hyperplane and determines the corresponsind 11th dimension of final temperature."
   ]
  },
  {
   "cell_type": "markdown",
   "metadata": {},
   "source": [
    "# Training Model\n",
    "\n",
    "Describe how you train your model. Include any code and output"
   ]
  },
  {
   "cell_type": "markdown",
   "metadata": {},
   "source": [
    "# Verification and Accuracy\n",
    "\n",
    "Describe how you check the accuracy of your model and its result. State any analysis you have and the steps you have taken to improve its accuracy."
   ]
  },
  {
   "cell_type": "markdown",
   "metadata": {},
   "source": [
    "# Example Scripts"
   ]
  },
  {
   "cell_type": "markdown",
   "metadata": {},
   "source": [
    "Instruction:\n",
    "\n",
    "* Read an excel file with the following format:\n",
    "```\n",
    "time (s)\treading\n",
    "0.00\t    25.812\n",
    "0.90\t    28.562\n",
    "1.79\t    31.875\n",
    "2.68\t    35.062\n",
    "3.55\t    37.937\n",
    "4.43\t    40.687\n",
    "5.30\t    43.25\n",
    "```\n",
    "where the first column indicates the time in seconds and the second column indicates the sensor reading in Celsius. \n",
    "* Write a code to prepare the data, extract the features.\n",
    "* Write a code to split the data.\n",
    "* Write a code to train the model.\n",
    "* Write a code to predict the final temperature.\n",
    "* Write a code to check accuracy.\n",
    "\n",
    "**The script below is just for your example. You don't have to use it and you can write your own script.**\n",
    "\n"
   ]
  },
  {
   "cell_type": "code",
   "execution_count": 155,
   "metadata": {},
   "outputs": [],
   "source": [
    "#Necessary Imports\n",
    "import numpy as np\n",
    "from sklearn import linear_model \n",
    "from sklearn.metrics import mean_squared_error, r2_score\n",
    "from sklearn.model_selection import train_test_split\n",
    "from sklearn.preprocessing import PolynomialFeatures\n",
    "import matplotlib.pyplot as plt"
   ]
  },
  {
   "cell_type": "code",
   "execution_count": 156,
   "metadata": {},
   "outputs": [
    {
     "name": "stdout",
     "output_type": "stream",
     "text": [
      "[['final temp' '1s' '2s' '3s' '4s' '5s' '6s' '7s' '8s' '9s' '10s']\n",
      " ['14.5' '22.625' '21.812' '21.062' '20.375' '19.812' '19.375' '18.875'\n",
      "  '18.5' '18.125' '17.812']\n",
      " ['19.937' '23.062' '22.437' '22.0' '21.687' '21.375' '21.187' '21.0'\n",
      "  '20.875' '20.75' '20.687']\n",
      " ['25.0' '24.125' '24.187' '24.25' '24.312' '24.375' '24.375' '24.437'\n",
      "  '24.5' '24.5' '24.562']\n",
      " ['33.812' '29.562' '30.75' '31.5' '32.0' '32.375' '32.687' '32.875'\n",
      "  '33.062' '33.187' '33.312']\n",
      " ['45.5' '32.375' '35.562' '37.75' '39.312' '40.562' '41.437' '42.187'\n",
      "  '42.75' '43.187' '43.562']\n",
      " ['52.812' '36.875' '40.75' '43.5' '45.562' '47.125' '48.312' '49.25'\n",
      "  '50.0' '50.562' '51.0']\n",
      " ['31.75' '26.875' '27.562' '28.375' '28.75' '29.187' '29.5' '29.687'\n",
      "  '30.0' '30.125' '30.312']\n",
      " ['61.812' '44.0' '49.062' '51.5' '55.562' '56.75' '58.687' '59.312'\n",
      "  '60.062' '60.375' '60.812']\n",
      " ['34.625' '27.875' '29.875' '30.937' '31.625' '32.062' '32.437' '32.687'\n",
      "  '32.937' '33.125' '33.312']\n",
      " ['36.812' '30.375' '32.125' '33.25' '34.0' '34.625' '35.187' '35.562'\n",
      "  '35.875' '36.062' '36.187']\n",
      " ['39.875' '32.437' '34.5' '35.875' '36.875' '37.562' '38.125' '38.5'\n",
      "  '38.812' '39.062' '39.25']\n",
      " ['49.625' '38.25' '40.625' '42.812' '43.75' '44.562' '45.187' '45.75'\n",
      "  '46.25' '46.75' '47.062']\n",
      " ['56.0' '39.125' '43.312' '46.187' '48.187' '49.75' '50.875' '51.812'\n",
      "  '52.5' '53.125' '53.625']\n",
      " ['60.625' '44.937' '48.937' '51.5' '53.562' '55.062' '56.312' '57.312'\n",
      "  '58.0' '58.562' '59.0']\n",
      " ['32.562' '29.5' '30.25' '30.937' '31.312' '31.5' '31.687' '31.812'\n",
      "  '31.937' '32.0' '32.062']\n",
      " ['30.937' '28.5' '29.062' '29.375' '29.625' '29.812' '30.0' '30.125'\n",
      "  '30.25' '30.312' '30.375']\n",
      " ['22.312' '23.75' '23.562' '23.375' '23.25' '23.125' '23.0' '22.937'\n",
      "  '22.875' '22.812' '22.75']\n",
      " ['30.437' '28.625' '28.937' '29.187' '29.375' '29.5' '29.562' '29.625'\n",
      "  '29.75' '29.812' '29.875']]\n"
     ]
    }
   ],
   "source": [
    "filename = 'NUDES'\n",
    "\n",
    "# code to read txt file\n",
    "\n",
    "# open the file\n",
    "f = open('{}.txt'.format(filename),'r')\n",
    "\n",
    "#create an array to store the data\n",
    "data = [['final temp','1s','2s','3s','4s','5s','6s','7s','8s','9s','10s']]\n",
    "\n",
    "# iterate through the lines in the file\n",
    "for line in f:\n",
    "    if line.strip() == 'Experiment:':\n",
    "        data_row = []\n",
    "        \n",
    "        #Get the final temp\n",
    "        final_temp_line = f.readline()\n",
    "        final_temp_array = final_temp_line.split(\" \")\n",
    "        final_temp = final_temp_array[2].strip()\n",
    "        data_row.append(final_temp)\n",
    "        \n",
    "        \n",
    "        #Get the individual temp\n",
    "        for i in range(10):\n",
    "            temp_line = f.readline()\n",
    "            temp_array = temp_line.split(\" \")\n",
    "            temp_at_time = temp_array[1].strip()\n",
    "            data_row.append(temp_at_time)\n",
    "        \n",
    "        data.append(data_row)\n",
    "\n",
    "print(np.array(data))\n",
    "f.close()"
   ]
  },
  {
   "cell_type": "code",
   "execution_count": 157,
   "metadata": {},
   "outputs": [
    {
     "name": "stdout",
     "output_type": "stream",
     "text": [
      "[['22.625' '21.812' '21.062' '20.375' '19.812' '19.375' '18.875' '18.5'\n",
      "  '18.125' '17.812']\n",
      " ['23.062' '22.437' '22.0' '21.687' '21.375' '21.187' '21.0' '20.875'\n",
      "  '20.75' '20.687']\n",
      " ['24.125' '24.187' '24.25' '24.312' '24.375' '24.375' '24.437' '24.5'\n",
      "  '24.5' '24.562']\n",
      " ['29.562' '30.75' '31.5' '32.0' '32.375' '32.687' '32.875' '33.062'\n",
      "  '33.187' '33.312']\n",
      " ['32.375' '35.562' '37.75' '39.312' '40.562' '41.437' '42.187' '42.75'\n",
      "  '43.187' '43.562']\n",
      " ['36.875' '40.75' '43.5' '45.562' '47.125' '48.312' '49.25' '50.0'\n",
      "  '50.562' '51.0']\n",
      " ['26.875' '27.562' '28.375' '28.75' '29.187' '29.5' '29.687' '30.0'\n",
      "  '30.125' '30.312']\n",
      " ['44.0' '49.062' '51.5' '55.562' '56.75' '58.687' '59.312' '60.062'\n",
      "  '60.375' '60.812']\n",
      " ['27.875' '29.875' '30.937' '31.625' '32.062' '32.437' '32.687' '32.937'\n",
      "  '33.125' '33.312']\n",
      " ['30.375' '32.125' '33.25' '34.0' '34.625' '35.187' '35.562' '35.875'\n",
      "  '36.062' '36.187']\n",
      " ['32.437' '34.5' '35.875' '36.875' '37.562' '38.125' '38.5' '38.812'\n",
      "  '39.062' '39.25']\n",
      " ['38.25' '40.625' '42.812' '43.75' '44.562' '45.187' '45.75' '46.25'\n",
      "  '46.75' '47.062']\n",
      " ['39.125' '43.312' '46.187' '48.187' '49.75' '50.875' '51.812' '52.5'\n",
      "  '53.125' '53.625']\n",
      " ['44.937' '48.937' '51.5' '53.562' '55.062' '56.312' '57.312' '58.0'\n",
      "  '58.562' '59.0']\n",
      " ['29.5' '30.25' '30.937' '31.312' '31.5' '31.687' '31.812' '31.937'\n",
      "  '32.0' '32.062']\n",
      " ['28.5' '29.062' '29.375' '29.625' '29.812' '30.0' '30.125' '30.25'\n",
      "  '30.312' '30.375']\n",
      " ['23.75' '23.562' '23.375' '23.25' '23.125' '23.0' '22.937' '22.875'\n",
      "  '22.812' '22.75']\n",
      " ['28.625' '28.937' '29.187' '29.375' '29.5' '29.562' '29.625' '29.75'\n",
      "  '29.812' '29.875']] ['14.5', '19.937', '25.0', '33.812', '45.5', '52.812', '31.75', '61.812', '34.625', '36.812', '39.875', '49.625', '56.0', '60.625', '32.562', '30.937', '22.312', '30.437']\n"
     ]
    }
   ],
   "source": [
    "def preprocess(data):\n",
    "    #save the dataset\n",
    "    dataset = data\n",
    "    #split into x and y\n",
    "    x_data = []\n",
    "    y_data = []\n",
    "    for row_no in range(1,len(dataset)):\n",
    "       # print(dataset[row_no][0])\n",
    "        y_data.append(dataset[row_no][0])\n",
    "        x_data_row = []\n",
    "        for col_no in range(1,len(dataset[0])):\n",
    "            x_data_row.append(dataset[row_no][col_no])\n",
    "        x_data.append(x_data_row)\n",
    "#     x_data = dataset[1:,1:]\n",
    "#     y_data = dataset[1:,0]\n",
    "    return x_data,y_data\n",
    "\n",
    "x_data,y_data = preprocess(data)\n",
    "print(np.array(x_data),y_data)"
   ]
  },
  {
   "cell_type": "code",
   "execution_count": 164,
   "metadata": {},
   "outputs": [
    {
     "name": "stdout",
     "output_type": "stream",
     "text": [
      "Input which row to check: 6\n",
      "['14.5', '19.937', '25.0', '33.812', '45.5', '52.812', '31.75', '61.812', '34.625', '36.812', '39.875', '49.625', '56.0', '60.625', '32.562', '30.937', '22.312', '30.437']\n",
      "[[18.875 21.    24.437 32.875 42.187 49.25  29.687 59.312 32.687 35.562\n",
      "  38.5   45.75  51.812 57.312 31.812 30.125 22.937 29.625]\n",
      " [14.5   19.937 25.    33.812 45.5   52.812 31.75  61.812 34.625 36.812\n",
      "  39.875 49.625 56.    60.625 32.562 30.937 22.312 30.437]]\n"
     ]
    },
    {
     "data": {
      "image/png": "[encoded data removed]",
      "text/plain": [
       "<Figure size 800x800 with 1 Axes>"
      ]
     },
     "metadata": {},
     "output_type": "display_data"
    }
   ],
   "source": [
    "# Create data\n",
    "z = int(input(\"Input which row to check: \"))\n",
    "x_col = np.array(x_data)[:,z].astype(float)\n",
    "\n",
    "print(y_data)\n",
    "y = [float(i) for i in y_data]\n",
    "\n",
    "visual_data = np.array([x_col,y])\n",
    "print(visual_data)\n",
    "\n",
    "fig=plt.figure(figsize=(10, 10), dpi= 80, facecolor='w', edgecolor='k')\n",
    "# Plot\n",
    "plt.scatter(x_col, y)\n",
    "plt.title('Scatter plot for row {}'.format(z))\n",
    "plt.xlabel('time {}s'.format(z))\n",
    "plt.ylabel('temp')\n",
    "for i_x, i_y in zip(x_col, y):\n",
    "    plt.text(i_x, i_y, '({}, {})'.format(i_x, i_y))\n",
    "plt.show()\n"
   ]
  },
  {
   "cell_type": "code",
   "execution_count": 165,
   "metadata": {},
   "outputs": [
    {
     "name": "stdout",
     "output_type": "stream",
     "text": [
      "(array([[28.5  , 29.062, 29.375, 29.625, 29.812, 30.   , 30.125, 30.25 ,\n",
      "        30.312, 30.375],\n",
      "       [32.437, 34.5  , 35.875, 36.875, 37.562, 38.125, 38.5  , 38.812,\n",
      "        39.062, 39.25 ],\n",
      "       [29.5  , 30.25 , 30.937, 31.312, 31.5  , 31.687, 31.812, 31.937,\n",
      "        32.   , 32.062],\n",
      "       [24.125, 24.187, 24.25 , 24.312, 24.375, 24.375, 24.437, 24.5  ,\n",
      "        24.5  , 24.562],\n",
      "       [23.062, 22.437, 22.   , 21.687, 21.375, 21.187, 21.   , 20.875,\n",
      "        20.75 , 20.687],\n",
      "       [23.75 , 23.562, 23.375, 23.25 , 23.125, 23.   , 22.937, 22.875,\n",
      "        22.812, 22.75 ],\n",
      "       [30.375, 32.125, 33.25 , 34.   , 34.625, 35.187, 35.562, 35.875,\n",
      "        36.062, 36.187],\n",
      "       [27.875, 29.875, 30.937, 31.625, 32.062, 32.437, 32.687, 32.937,\n",
      "        33.125, 33.312],\n",
      "       [44.   , 49.062, 51.5  , 55.562, 56.75 , 58.687, 59.312, 60.062,\n",
      "        60.375, 60.812]]), array([[32.375, 35.562, 37.75 , 39.312, 40.562, 41.437, 42.187, 42.75 ,\n",
      "        43.187, 43.562],\n",
      "       [38.25 , 40.625, 42.812, 43.75 , 44.562, 45.187, 45.75 , 46.25 ,\n",
      "        46.75 , 47.062],\n",
      "       [28.625, 28.937, 29.187, 29.375, 29.5  , 29.562, 29.625, 29.75 ,\n",
      "        29.812, 29.875],\n",
      "       [22.625, 21.812, 21.062, 20.375, 19.812, 19.375, 18.875, 18.5  ,\n",
      "        18.125, 17.812],\n",
      "       [29.562, 30.75 , 31.5  , 32.   , 32.375, 32.687, 32.875, 33.062,\n",
      "        33.187, 33.312],\n",
      "       [36.875, 40.75 , 43.5  , 45.562, 47.125, 48.312, 49.25 , 50.   ,\n",
      "        50.562, 51.   ],\n",
      "       [26.875, 27.562, 28.375, 28.75 , 29.187, 29.5  , 29.687, 30.   ,\n",
      "        30.125, 30.312],\n",
      "       [44.937, 48.937, 51.5  , 53.562, 55.062, 56.312, 57.312, 58.   ,\n",
      "        58.562, 59.   ],\n",
      "       [39.125, 43.312, 46.187, 48.187, 49.75 , 50.875, 51.812, 52.5  ,\n",
      "        53.125, 53.625]]), array([30.937, 39.875, 32.562, 25.   , 19.937, 22.312, 36.812, 34.625,\n",
      "       61.812]), array([45.5  , 49.625, 30.437, 14.5  , 33.812, 52.812, 31.75 , 60.625,\n",
      "       56.   ]))\n"
     ]
    }
   ],
   "source": [
    "# write a code to split the data to train and test\n",
    "def prepare_train_test(data,percentage_for_test):\n",
    "    x_data,y_data = preprocess(data)\n",
    "    #split further into testdata and practice data\n",
    "    x_train,x_test,y_train,y_test = train_test_split(x_data,\\\n",
    "                                                     y_data,\\\n",
    "                                                     test_size = percentage_for_test)\n",
    "    x_train =  np.array(x_train).astype(float)\n",
    "    x_test =  np.array(x_test).astype(float)\n",
    "    y_train =  np.array(y_train).astype(float)\n",
    "    y_test =  np.array(y_test).astype(float) \n",
    "    \n",
    "    return x_train,x_test,y_train,y_test\n",
    "\n",
    "print(prepare_train_test(data,0.5))"
   ]
  },
  {
   "cell_type": "code",
   "execution_count": 209,
   "metadata": {},
   "outputs": [
    {
     "name": "stdout",
     "output_type": "stream",
     "text": [
      "[[26.875 27.562 28.375 28.75  29.187 29.5   29.687 30.    30.125 30.312]]\n",
      "the abs error is [0.09880865]\n",
      "{'mean squared error': 0.009763148490579552, 'intercept': 0.7850370590002598, 'coefficients': array([-0.42837426,  0.44988925,  0.68640678,  3.53914662, -3.44063975,\n",
      "       -2.68586895, -5.63890518,  6.50593578, -5.5142591 ,  7.48698441]), 'r2 score': 0.0}\n"
     ]
    }
   ],
   "source": [
    "# write a code to train the model\n",
    "# the function should return the trained model\n",
    "def train_model(data, percentage_for_test):\n",
    "    \n",
    "    x_train,x_test,y_train,y_test = prepare_train_test(data,percentage_for_test)\n",
    "    \n",
    "    #create the linear regression model\n",
    "    model = linear_model.LinearRegression()\n",
    "    model.fit(x_train,y_train)\n",
    "    #predict the y values for a given c\n",
    "    print(x_test)\n",
    "    y_pred = model.predict(x_test)\n",
    "#     print(y_pred)\n",
    "    \n",
    "    #calculate the R2,MSE,coef and intercept\n",
    "    MSE = mean_squared_error(y_test, y_pred)\n",
    "    R2 = r2_score(y_test,y_pred)\n",
    "    coef = model.coef_\n",
    "    intercept = model.intercept_\n",
    "    #generate the results dictionary\n",
    "    \n",
    "    \n",
    "    abs_error_vector = np.abs(y_test - y_pred)\n",
    "    print('the abs error is ' + str(abs_error_vector))\n",
    "    \n",
    "    results = {\"mean squared error\" : MSE,\n",
    "               \"intercept\" : intercept,\n",
    "               \"coefficients\" : coef,\n",
    "               \"r2 score\" : R2}\n",
    "    return results,model\n",
    "\n",
    "results,model = train_model(data,0.01)\n",
    "print(results)"
   ]
  },
  {
   "cell_type": "code",
   "execution_count": 217,
   "metadata": {},
   "outputs": [
    {
     "name": "stdout",
     "output_type": "stream",
     "text": [
      "[[42.375 47.437 50.812 52.437 53.687 54.625 55.437 56.062 56.5   56.812]]\n",
      "[58.92749285]\n"
     ]
    }
   ],
   "source": [
    "# write a code to check your accuracy\n",
    "\n",
    "prediction = [[42.375,47.437,50.812,52.437,53.687,54.625,55.437,56.062,56.5,56.812]]\n",
    "\n",
    "prediction = np.array(prediction).astype(float)\n",
    "\n",
    "print(prediction)\n",
    "result = model.predict(prediction)\n",
    "print(result)"
   ]
  },
  {
   "cell_type": "code",
   "execution_count": 147,
   "metadata": {},
   "outputs": [
    {
     "ename": "UnicodeDecodeError",
     "evalue": "'charmap' codec can't decode byte 0x81 in position 49: character maps to <undefined>",
     "output_type": "error",
     "traceback": [
      "\u001b[1;31m---------------------------------------------------------------------------\u001b[0m",
      "\u001b[1;31mUnicodeDecodeError\u001b[0m                        Traceback (most recent call last)",
      "\u001b[1;32m<ipython-input-147-1b6f9ed2670b>\u001b[0m in \u001b[0;36m<module>\u001b[1;34m\u001b[0m\n\u001b[0;32m      6\u001b[0m \u001b[1;33m\u001b[0m\u001b[0m\n\u001b[0;32m      7\u001b[0m \u001b[1;32mwith\u001b[0m \u001b[0mopen\u001b[0m\u001b[1;33m(\u001b[0m\u001b[1;34m\"model.pickle\"\u001b[0m\u001b[1;33m,\u001b[0m \u001b[1;34m\"r\"\u001b[0m\u001b[1;33m)\u001b[0m \u001b[1;32mas\u001b[0m \u001b[0moutput_file\u001b[0m\u001b[1;33m:\u001b[0m\u001b[1;33m\u001b[0m\u001b[1;33m\u001b[0m\u001b[0m\n\u001b[1;32m----> 8\u001b[1;33m     \u001b[0ms\u001b[0m \u001b[1;33m=\u001b[0m \u001b[0mpickle\u001b[0m\u001b[1;33m.\u001b[0m\u001b[0mload\u001b[0m\u001b[1;33m(\u001b[0m\u001b[0moutput_file\u001b[0m\u001b[1;33m)\u001b[0m\u001b[1;33m\u001b[0m\u001b[1;33m\u001b[0m\u001b[0m\n\u001b[0m",
      "\u001b[1;32m~\\Anaconda3\\lib\\encodings\\cp1252.py\u001b[0m in \u001b[0;36mdecode\u001b[1;34m(self, input, final)\u001b[0m\n\u001b[0;32m     21\u001b[0m \u001b[1;32mclass\u001b[0m \u001b[0mIncrementalDecoder\u001b[0m\u001b[1;33m(\u001b[0m\u001b[0mcodecs\u001b[0m\u001b[1;33m.\u001b[0m\u001b[0mIncrementalDecoder\u001b[0m\u001b[1;33m)\u001b[0m\u001b[1;33m:\u001b[0m\u001b[1;33m\u001b[0m\u001b[1;33m\u001b[0m\u001b[0m\n\u001b[0;32m     22\u001b[0m     \u001b[1;32mdef\u001b[0m \u001b[0mdecode\u001b[0m\u001b[1;33m(\u001b[0m\u001b[0mself\u001b[0m\u001b[1;33m,\u001b[0m \u001b[0minput\u001b[0m\u001b[1;33m,\u001b[0m \u001b[0mfinal\u001b[0m\u001b[1;33m=\u001b[0m\u001b[1;32mFalse\u001b[0m\u001b[1;33m)\u001b[0m\u001b[1;33m:\u001b[0m\u001b[1;33m\u001b[0m\u001b[1;33m\u001b[0m\u001b[0m\n\u001b[1;32m---> 23\u001b[1;33m         \u001b[1;32mreturn\u001b[0m \u001b[0mcodecs\u001b[0m\u001b[1;33m.\u001b[0m\u001b[0mcharmap_decode\u001b[0m\u001b[1;33m(\u001b[0m\u001b[0minput\u001b[0m\u001b[1;33m,\u001b[0m\u001b[0mself\u001b[0m\u001b[1;33m.\u001b[0m\u001b[0merrors\u001b[0m\u001b[1;33m,\u001b[0m\u001b[0mdecoding_table\u001b[0m\u001b[1;33m)\u001b[0m\u001b[1;33m[\u001b[0m\u001b[1;36m0\u001b[0m\u001b[1;33m]\u001b[0m\u001b[1;33m\u001b[0m\u001b[1;33m\u001b[0m\u001b[0m\n\u001b[0m\u001b[0;32m     24\u001b[0m \u001b[1;33m\u001b[0m\u001b[0m\n\u001b[0;32m     25\u001b[0m \u001b[1;32mclass\u001b[0m \u001b[0mStreamWriter\u001b[0m\u001b[1;33m(\u001b[0m\u001b[0mCodec\u001b[0m\u001b[1;33m,\u001b[0m\u001b[0mcodecs\u001b[0m\u001b[1;33m.\u001b[0m\u001b[0mStreamWriter\u001b[0m\u001b[1;33m)\u001b[0m\u001b[1;33m:\u001b[0m\u001b[1;33m\u001b[0m\u001b[1;33m\u001b[0m\u001b[0m\n",
      "\u001b[1;31mUnicodeDecodeError\u001b[0m: 'charmap' codec can't decode byte 0x81 in position 49: character maps to <undefined>"
     ]
    }
   ],
   "source": [
    "# save the model\n",
    "import pickle\n",
    "\n",
    "with open(\"model.pickle\", \"wb\") as output_file:\n",
    "    pickle.dump(model, output_file)\n",
    "    \n",
    "with open(\"model.pickle\", \"r\") as output_file:\n",
    "    s = pickle.load(output_file)"
   ]
  },
  {
   "cell_type": "code",
   "execution_count": null,
   "metadata": {},
   "outputs": [],
   "source": []
  }
 ],
 "metadata": {
  "kernelspec": {
   "display_name": "Python 3",
   "language": "python",
   "name": "python3"
  },
  "language_info": {
   "codemirror_mode": {
    "name": "ipython",
    "version": 3
   },
   "file_extension": ".py",
   "mimetype": "text/x-python",
   "name": "python",
   "nbconvert_exporter": "python",
   "pygments_lexer": "ipython3",
   "version": "3.7.1"
  }
 },
 "nbformat": 4,
 "nbformat_minor": 2
}
