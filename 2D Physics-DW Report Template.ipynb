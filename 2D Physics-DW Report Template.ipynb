{
 "cells": [
  {
   "cell_type": "markdown",
   "metadata": {},
   "source": [
    "# <center>Report for 2D Project Physical World and Digital World</center>\n",
    "\n",
    "Cohort: F07\n",
    "\n",
    "Team No.: 10\n",
    "\n",
    "Members:\n",
    "* Philip Andrew Wee De Wang (1003342)\n",
    "* Nicholas Lim Jun Yuan ()\n",
    "* Stephen Alvin (1003309)\n",
    "* Bhuvaneswari Sithanathan (1003798)\n"
   ]
  },
  {
   "cell_type": "markdown",
   "metadata": {},
   "source": [
    "# <center>Introduction</center>\n",
    "\n",
    "### __Problem__:\n",
    "\n",
    "We wish to measure the temperature of a bottle, but we only wish to use the first 10 seconds of data in order to obtain the temperature at the 2 minute mark within 0.1 degrees celcius accuracy.\n",
    "\n",
    "### __Approach__:\n",
    "\n",
    "We will measure the temperature every second for 10 seconds, starting at 25 degrees celcius and at the end of 10 seconds we will run the collected data through our trained model to predict the temperature at the 2 minute mark\n",
    "\n",
    "### __Summary__:\n",
    "\n",
    "We realised that the water bath can only take the temperature every 2 seconds, and because we seperated the GUI and the raspberry pi, we also had to wait for firebase to update the values so our computer running the GUI could access the values and calculate it.\n",
    "\n",
    "Hence, we changed our model to learn from just the first three sets of data collected, and managed to accurately predict the temperature within 1 degree celcius in under 10 seconds.\n",
    "\n"
   ]
  },
  {
   "cell_type": "markdown",
   "metadata": {},
   "source": [
    "# <center>Description of Data from Experiment</center>"
   ]
  },
  {
   "cell_type": "markdown",
   "metadata": {},
   "source": [
    "## Data Collection\n",
    "\n",
    "Describe how you collect your data and the reasoning behind such approach.\n",
    "\n",
    "### How data is collected:\n",
    "1. If the water is higher temperature than the room, wait for the temperature increase to 26 degrees celcius, if not wait for the water to decrease to 24 degrees celcius\n",
    "2. Every second afterward, record the temperature of the water with the sensor.\n",
    "3. Wait for 2 minutes and record the temperature of the water with the thermometer\n",
    "\n",
    "### Reasoning:\n",
    "1. It is imperative that the starting temperature is always the same. Hence we write the program such that it starts at 26 degrees celcius, or 24 degrees celcius, making a constant starting point for both increasing and decreasing of temperatures\n",
    "2. By collecting the data at every second, we are able to have more data points and thus more accurately determine the final temperature\n",
    "3. Waiting 2 minutes should suffice for the thermometer to come within 0.1 degrees celcius of the actual water temperature, allowing us to know the actual temperature\n"
   ]
  },
  {
   "cell_type": "markdown",
   "metadata": {},
   "source": [
    "## Data Preparation\n",
    "\n",
    "The data is prepared in a .txt file in the below format (Not actual result):\n",
    "```\n",
    "Experiment\n",
    "Final Temp: 37\n",
    "1     24.2\n",
    "2     25.2\n",
    "3     26.2\n",
    "4     27.2\n",
    "5     28.2\n",
    "6     29.2\n",
    "7     30.2\n",
    "8     31.2\n",
    "9     32.2\n",
    "10    33.2\n",
    "\n",
    "Experiment\n",
    "Final Temp: 37\n",
    "1     24.2\n",
    "2     25.2\n",
    "3     26.2\n",
    "4     27.2\n",
    "5     28.2\n",
    "6     29.2\n",
    "7     30.2\n",
    "8     31.2\n",
    "9     32.2\n",
    "10    33.2\n",
    "```\n",
    "Subsequent experiments will also be appended to the text file accordingly. This format allows us to easily code a program to store these values"
   ]
  },
  {
   "cell_type": "markdown",
   "metadata": {},
   "source": [
    "## Data Format\n",
    "\n",
    "When our model is trained, it is plotted on a 11 dimensional hyperplane which best fits the data provided.\n",
    "\n",
    "When 10 dimensions of temperature corresponding to each second mark is provided, it then places these points on the hyperplane and determines the corresponsind 11th dimension of final temperature."
   ]
  },
  {
   "cell_type": "markdown",
   "metadata": {},
   "source": [
    "# <center>Training Model</center>\n",
    "\n"
   ]
  },
  {
   "cell_type": "markdown",
   "metadata": {},
   "source": [
    "# Verification and Accuracy\n",
    "\n",
    "Describe how you check the accuracy of your model and its result. State any analysis you have and the steps you have taken to improve its accuracy."
   ]
  },
  {
   "cell_type": "markdown",
   "metadata": {},
   "source": [
    "# Scripts Used and Explanation"
   ]
  },
  {
   "cell_type": "markdown",
   "metadata": {},
   "source": [
    "### Imports for code\n",
    "\n",
    "__Numpy__ -> Required for scikit-learn\n",
    "\n",
    "__sklearn__ -> Required for linear regression code\n",
    "\n",
    "__matplot__ -> Required for data visualisation to remove outliers\n"
   ]
  },
  {
   "cell_type": "code",
   "execution_count": 1,
   "metadata": {},
   "outputs": [],
   "source": [
    "#Necessary Imports\n",
    "import numpy as np\n",
    "from sklearn import linear_model \n",
    "from sklearn.metrics import mean_squared_error, r2_score\n",
    "from sklearn.model_selection import train_test_split\n",
    "from sklearn.preprocessing import PolynomialFeatures\n",
    "import matplotlib.pyplot as plt"
   ]
  },
  {
   "cell_type": "markdown",
   "metadata": {},
   "source": [
    "### Code for reading training data\n",
    "\n",
    "This code reads the training data from the filename as defined at the top\n",
    "\n",
    "If a line in the text file matches the string 'Experiment:' exactly, it will read the data\n",
    "\n",
    "Otherwise, it will ignore that training set and move on\n",
    "\n",
    "Outliers can be removed by replacing the string 'Experiment:' with '(outlier)Experiment:' in order to avoid it being read\n",
    "\n",
    "The data is stored in a normal array in the following format:\n",
    "\n",
    "```\n",
    " [['final temp''1s'     '2s'     '3s'     '4s'     '5s'     '6s'     '7s'     '8s'     '9s'    '10s']\n",
    " ['14.5'   '22.625' '21.812' '21.062' '20.375' '19.812' '19.375' '18.875' '18.5'   '18.125' '17.812']\n",
    " ['19.937' '23.062' '22.437' '22.0'   '21.687' '21.375' '21.187' '21.0'   '20.875' '20.75'  '20.687']\n",
    " ['25.0'   '24.125' '24.187' '24.25'  '24.312' '24.375' '24.375' '24.437' '24.5'   '24.5'   '24.562']\n",
    " ['33.812' '29.562' '30.75'  '31.5'   '32.0'   '32.375' '32.687' '32.875' '33.062' '33.187' '33.312']\n",
    " ['45.5'   '32.375' '35.562' '37.75'  '39.312' '40.562' '41.437' '42.187' '42.75'  '43.187' '43.562']]\n",
    "```"
   ]
  },
  {
   "cell_type": "code",
   "execution_count": 2,
   "metadata": {},
   "outputs": [
    {
     "name": "stdout",
     "output_type": "stream",
     "text": [
      "[['final temp' '1s' '2s' '3s' '4s' '5s' '6s' '7s' '8s' '9s' '10s']\n",
      " ['14.5' '22.625' '21.812' '21.062' '20.375' '19.812' '19.375' '18.875'\n",
      "  '18.5' '18.125' '17.812']\n",
      " ['19.937' '23.062' '22.437' '22.0' '21.687' '21.375' '21.187' '21.0'\n",
      "  '20.875' '20.75' '20.687']\n",
      " ['25.0' '24.125' '24.187' '24.25' '24.312' '24.375' '24.375' '24.437'\n",
      "  '24.5' '24.5' '24.562']\n",
      " ['33.812' '29.562' '30.75' '31.5' '32.0' '32.375' '32.687' '32.875'\n",
      "  '33.062' '33.187' '33.312']\n",
      " ['45.5' '32.375' '35.562' '37.75' '39.312' '40.562' '41.437' '42.187'\n",
      "  '42.75' '43.187' '43.562']\n",
      " ['52.812' '36.875' '40.75' '43.5' '45.562' '47.125' '48.312' '49.25'\n",
      "  '50.0' '50.562' '51.0']\n",
      " ['31.75' '26.875' '27.562' '28.375' '28.75' '29.187' '29.5' '29.687'\n",
      "  '30.0' '30.125' '30.312']\n",
      " ['61.812' '44.0' '49.062' '51.5' '55.562' '56.75' '58.687' '59.312'\n",
      "  '60.062' '60.375' '60.812']\n",
      " ['34.625' '27.875' '29.875' '30.937' '31.625' '32.062' '32.437' '32.687'\n",
      "  '32.937' '33.125' '33.312']\n",
      " ['36.812' '30.375' '32.125' '33.25' '34.0' '34.625' '35.187' '35.562'\n",
      "  '35.875' '36.062' '36.187']\n",
      " ['39.875' '32.437' '34.5' '35.875' '36.875' '37.562' '38.125' '38.5'\n",
      "  '38.812' '39.062' '39.25']\n",
      " ['49.625' '38.25' '40.625' '42.812' '43.75' '44.562' '45.187' '45.75'\n",
      "  '46.25' '46.75' '47.062']\n",
      " ['56.0' '39.125' '43.312' '46.187' '48.187' '49.75' '50.875' '51.812'\n",
      "  '52.5' '53.125' '53.625']\n",
      " ['60.625' '44.937' '48.937' '51.5' '53.562' '55.062' '56.312' '57.312'\n",
      "  '58.0' '58.562' '59.0']\n",
      " ['32.562' '29.5' '30.25' '30.937' '31.312' '31.5' '31.687' '31.812'\n",
      "  '31.937' '32.0' '32.062']\n",
      " ['30.937' '28.5' '29.062' '29.375' '29.625' '29.812' '30.0' '30.125'\n",
      "  '30.25' '30.312' '30.375']\n",
      " ['22.312' '23.75' '23.562' '23.375' '23.25' '23.125' '23.0' '22.937'\n",
      "  '22.875' '22.812' '22.75']\n",
      " ['18.312' '21.75' '20.875' '20.375' '20.0' '19.75' '19.562' '19.312'\n",
      "  '19.187' '19.062' '19.0']\n",
      " ['30.562' '26.687' '28.125' '28.75' '29.125' '29.5' '29.625' '29.812'\n",
      "  '30.0' '30.062' '30.125']\n",
      " ['51.75' '37.75' '43.125' '45.5' '46.937' '47.875' '48.687' '49.25'\n",
      "  '49.75' '50.125' '50.437']\n",
      " ['58.25' '42.375' '47.437' '50.812' '52.437' '53.687' '54.625' '55.437'\n",
      "  '56.062' '56.5' '56.812']]\n"
     ]
    }
   ],
   "source": [
    "filename = 'training data'\n",
    "\n",
    "# code to read txt file\n",
    "\n",
    "# open the file\n",
    "f = open('{}.txt'.format(filename),'r')\n",
    "\n",
    "#create an array to store the data\n",
    "data = [['final temp','1s','2s','3s','4s','5s','6s','7s','8s','9s','10s']]\n",
    "\n",
    "# iterate through the lines in the file\n",
    "for line in f:\n",
    "    #If the line starts with Experiment, extract the data\n",
    "    if line.strip() == 'Experiment:':\n",
    "        #Get ready to store the data for the current row\n",
    "        data_row = []\n",
    "        \n",
    "        #Get the final temp\n",
    "        final_temp_line = f.readline()\n",
    "        final_temp_array = final_temp_line.split(\" \")\n",
    "        #The final temp is the 2 index in the array ['final','temp:','27']\n",
    "        final_temp = final_temp_array[2].strip()\n",
    "        data_row.append(final_temp)\n",
    "        \n",
    "        \n",
    "        #Get the individual temp\n",
    "        for i in range(10):\n",
    "            temp_line = f.readline()\n",
    "            temp_array = temp_line.split(\" \")\n",
    "            #the first number in the array is the time the reading is taken and the second the temperature at the time\n",
    "            #the temp_at_time is the 1 index in the array ['1.0','26']\n",
    "            temp_at_time = temp_array[1].strip()\n",
    "            data_row.append(temp_at_time)\n",
    "        \n",
    "        #Add the row of data extracted to the full data line\n",
    "        data.append(data_row)\n",
    "\n",
    "#visualise the data extracted for debugging purposes\n",
    "print(np.array(data))\n",
    "\n",
    "#Always remember to close the file\n",
    "f.close()"
   ]
  },
  {
   "cell_type": "markdown",
   "metadata": {},
   "source": [
    "### Code for preprocessing data\n",
    "\n",
    "Here we split take the data obtained, and we extract the y value and place it in a seperate array so we can insert it straight into our machine learning model"
   ]
  },
  {
   "cell_type": "code",
   "execution_count": 3,
   "metadata": {},
   "outputs": [
    {
     "name": "stdout",
     "output_type": "stream",
     "text": [
      "[['22.625' '21.812' '21.062' '20.375' '19.812' '19.375' '18.875' '18.5'\n",
      "  '18.125' '17.812']\n",
      " ['23.062' '22.437' '22.0' '21.687' '21.375' '21.187' '21.0' '20.875'\n",
      "  '20.75' '20.687']\n",
      " ['24.125' '24.187' '24.25' '24.312' '24.375' '24.375' '24.437' '24.5'\n",
      "  '24.5' '24.562']\n",
      " ['29.562' '30.75' '31.5' '32.0' '32.375' '32.687' '32.875' '33.062'\n",
      "  '33.187' '33.312']\n",
      " ['32.375' '35.562' '37.75' '39.312' '40.562' '41.437' '42.187' '42.75'\n",
      "  '43.187' '43.562']\n",
      " ['36.875' '40.75' '43.5' '45.562' '47.125' '48.312' '49.25' '50.0'\n",
      "  '50.562' '51.0']\n",
      " ['26.875' '27.562' '28.375' '28.75' '29.187' '29.5' '29.687' '30.0'\n",
      "  '30.125' '30.312']\n",
      " ['44.0' '49.062' '51.5' '55.562' '56.75' '58.687' '59.312' '60.062'\n",
      "  '60.375' '60.812']\n",
      " ['27.875' '29.875' '30.937' '31.625' '32.062' '32.437' '32.687' '32.937'\n",
      "  '33.125' '33.312']\n",
      " ['30.375' '32.125' '33.25' '34.0' '34.625' '35.187' '35.562' '35.875'\n",
      "  '36.062' '36.187']\n",
      " ['32.437' '34.5' '35.875' '36.875' '37.562' '38.125' '38.5' '38.812'\n",
      "  '39.062' '39.25']\n",
      " ['38.25' '40.625' '42.812' '43.75' '44.562' '45.187' '45.75' '46.25'\n",
      "  '46.75' '47.062']\n",
      " ['39.125' '43.312' '46.187' '48.187' '49.75' '50.875' '51.812' '52.5'\n",
      "  '53.125' '53.625']\n",
      " ['44.937' '48.937' '51.5' '53.562' '55.062' '56.312' '57.312' '58.0'\n",
      "  '58.562' '59.0']\n",
      " ['29.5' '30.25' '30.937' '31.312' '31.5' '31.687' '31.812' '31.937'\n",
      "  '32.0' '32.062']\n",
      " ['28.5' '29.062' '29.375' '29.625' '29.812' '30.0' '30.125' '30.25'\n",
      "  '30.312' '30.375']\n",
      " ['23.75' '23.562' '23.375' '23.25' '23.125' '23.0' '22.937' '22.875'\n",
      "  '22.812' '22.75']\n",
      " ['21.75' '20.875' '20.375' '20.0' '19.75' '19.562' '19.312' '19.187'\n",
      "  '19.062' '19.0']\n",
      " ['26.687' '28.125' '28.75' '29.125' '29.5' '29.625' '29.812' '30.0'\n",
      "  '30.062' '30.125']\n",
      " ['37.75' '43.125' '45.5' '46.937' '47.875' '48.687' '49.25' '49.75'\n",
      "  '50.125' '50.437']\n",
      " ['42.375' '47.437' '50.812' '52.437' '53.687' '54.625' '55.437' '56.062'\n",
      "  '56.5' '56.812']] ['14.5', '19.937', '25.0', '33.812', '45.5', '52.812', '31.75', '61.812', '34.625', '36.812', '39.875', '49.625', '56.0', '60.625', '32.562', '30.937', '22.312', '18.312', '30.562', '51.75', '58.25']\n"
     ]
    }
   ],
   "source": [
    "def preprocess(data):\n",
    "    #Create the arrays for storing the information\n",
    "    x_data = []\n",
    "    y_data = []\n",
    "    \n",
    "    #This code utilises all the sets of data for training, from 1s to 10s. \n",
    "    #len(data)[0] can be modified to take in different amounts of data, perhaps from 1s to 3s\n",
    "    #For example, our actual test only took data from 1s to 3s because taking 10 sets of data took too long\n",
    "    \n",
    "    for row_no in range(1,len(data)):\n",
    "        #attach the first value of the row to the y data\n",
    "        y_data.append(data[row_no][0])\n",
    "        #create an array to contain all the x data\n",
    "        x_data_row = []\n",
    "        \n",
    "        for col_no in range(1,len(data[0])):\n",
    "            #attach the remaining values to the row of x data\n",
    "            x_data_row.append(data[row_no][col_no])\n",
    "            \n",
    "        #attach the row of x data to the overall x data\n",
    "        x_data.append(x_data_row)]\n",
    "        \n",
    "    return x_data,y_data\n",
    "\n",
    "#save the preprocessed data in x_data and y_data\n",
    "x_data,y_data = preprocess(data)\n",
    "\n",
    "#Code to visualise x data and y data for debugging\n",
    "print(np.array(x_data),y_data)"
   ]
  },
  {
   "cell_type": "markdown",
   "metadata": {},
   "source": [
    "### Data visualisation and outlier removal\n",
    "\n",
    "Some of our tests were not done with the exact same conditions. The thermometer may have touched someone's hand resulting in data points not lying on the expected points. These points can be removed by visualising the data and removing points that lie outside the expected range"
   ]
  },
  {
   "cell_type": "code",
   "execution_count": 101,
   "metadata": {},
   "outputs": [
    {
     "name": "stdout",
     "output_type": "stream",
     "text": [
      "Input which timing to check (only integer from 1 to 10 please): 2\n"
     ]
    },
    {
     "data": {
      "image/png": "[encoded data removed]",
      "text/plain": [
       "<Figure size 800x800 with 1 Axes>"
      ]
     },
     "metadata": {},
     "output_type": "display_data"
    },
    {
     "name": "stdout",
     "output_type": "stream",
     "text": [
      "Data Points:\n",
      "x            y\n",
      "21.812  14.500\n",
      "22.437  19.937\n",
      "24.187  25.000\n",
      "30.750  33.812\n",
      "35.562  45.500\n",
      "40.750  52.812\n",
      "27.562  31.750\n",
      "49.062  61.812\n",
      "29.875  34.625\n",
      "32.125  36.812\n",
      "34.500  39.875\n",
      "40.625  49.625\n",
      "43.312  56.000\n",
      "48.937  60.625\n",
      "30.250  32.562\n",
      "29.062  30.937\n",
      "23.562  22.312\n",
      "20.875  18.312\n",
      "28.125  30.562\n",
      "43.125  51.750\n",
      "47.437  58.250\n"
     ]
    }
   ],
   "source": [
    "# Create the x data for a particular time t\n",
    "z = int(input(\"Input which timing to check (only integer from 1 to 10 please): \"))-1\n",
    "\n",
    "#slice the array by column to obtain the appropriate timing\n",
    "#convert it to float so it can be displayed properly\n",
    "x_col = np.array(x_data)[:,z].astype(float)\n",
    "\n",
    "#save the y data, and convert it to a float so it can be displayed properly\n",
    "y = [float(i) for i in y_data]\n",
    "\n",
    "# Plot the figure\n",
    "\n",
    "#Code to make it bigger so we can see outliers properly\n",
    "fig=plt.figure(figsize=(10, 10), dpi= 80, facecolor='w', edgecolor='k')\n",
    "plt.scatter(x_col, y)\n",
    "plt.title('Scatter plot for row {}'.format(z))\n",
    "plt.xlabel('time {}s'.format(z))\n",
    "plt.ylabel('temp')\n",
    "\n",
    "#Code for labelling all the points\n",
    "for i_x, i_y in zip(x_col, y):\n",
    "    plt.text(i_x, i_y, '({}, {})'.format(i_x, i_y))\n",
    "plt.show()\n",
    "\n",
    "#code for visualing the data for debugging purposes\n",
    "x_col = x_col.tolist()\n",
    "y = [float(i) for i in y]\n",
    "\n",
    "print('Data Points:')\n",
    "print('{:<7}{:>7}'.format('x','y'))\n",
    "for i in range(len(x_col)):\n",
    "    print('{:<7.3f}{:>7.3f}'.format(x_col[i],y[i]))"
   ]
  },
  {
   "cell_type": "markdown",
   "metadata": {},
   "source": [
    "### Creating the training data and testing data\n",
    "\n",
    "We need to split our data into the training and testing set\n",
    "\n",
    "The training set trains our model to find the hyperplane of best fit\n",
    "\n",
    "The testing set gives us the R2 score, to determine how accurate our training data is"
   ]
  },
  {
   "cell_type": "code",
   "execution_count": 14,
   "metadata": {},
   "outputs": [
    {
     "name": "stdout",
     "output_type": "stream",
     "text": [
      "(array([[27.875, 29.875, 30.937, 31.625, 32.062, 32.437, 32.687, 32.937,\n",
      "        33.125, 33.312],\n",
      "       [26.687, 28.125, 28.75 , 29.125, 29.5  , 29.625, 29.812, 30.   ,\n",
      "        30.062, 30.125],\n",
      "       [28.5  , 29.062, 29.375, 29.625, 29.812, 30.   , 30.125, 30.25 ,\n",
      "        30.312, 30.375],\n",
      "       [26.875, 27.562, 28.375, 28.75 , 29.187, 29.5  , 29.687, 30.   ,\n",
      "        30.125, 30.312],\n",
      "       [37.75 , 43.125, 45.5  , 46.937, 47.875, 48.687, 49.25 , 49.75 ,\n",
      "        50.125, 50.437],\n",
      "       [44.937, 48.937, 51.5  , 53.562, 55.062, 56.312, 57.312, 58.   ,\n",
      "        58.562, 59.   ],\n",
      "       [44.   , 49.062, 51.5  , 55.562, 56.75 , 58.687, 59.312, 60.062,\n",
      "        60.375, 60.812],\n",
      "       [32.437, 34.5  , 35.875, 36.875, 37.562, 38.125, 38.5  , 38.812,\n",
      "        39.062, 39.25 ],\n",
      "       [30.375, 32.125, 33.25 , 34.   , 34.625, 35.187, 35.562, 35.875,\n",
      "        36.062, 36.187],\n",
      "       [21.75 , 20.875, 20.375, 20.   , 19.75 , 19.562, 19.312, 19.187,\n",
      "        19.062, 19.   ]]), array([[23.062, 22.437, 22.   , 21.687, 21.375, 21.187, 21.   , 20.875,\n",
      "        20.75 , 20.687],\n",
      "       [39.125, 43.312, 46.187, 48.187, 49.75 , 50.875, 51.812, 52.5  ,\n",
      "        53.125, 53.625],\n",
      "       [32.375, 35.562, 37.75 , 39.312, 40.562, 41.437, 42.187, 42.75 ,\n",
      "        43.187, 43.562],\n",
      "       [29.5  , 30.25 , 30.937, 31.312, 31.5  , 31.687, 31.812, 31.937,\n",
      "        32.   , 32.062],\n",
      "       [36.875, 40.75 , 43.5  , 45.562, 47.125, 48.312, 49.25 , 50.   ,\n",
      "        50.562, 51.   ],\n",
      "       [24.125, 24.187, 24.25 , 24.312, 24.375, 24.375, 24.437, 24.5  ,\n",
      "        24.5  , 24.562],\n",
      "       [38.25 , 40.625, 42.812, 43.75 , 44.562, 45.187, 45.75 , 46.25 ,\n",
      "        46.75 , 47.062],\n",
      "       [23.75 , 23.562, 23.375, 23.25 , 23.125, 23.   , 22.937, 22.875,\n",
      "        22.812, 22.75 ],\n",
      "       [42.375, 47.437, 50.812, 52.437, 53.687, 54.625, 55.437, 56.062,\n",
      "        56.5  , 56.812],\n",
      "       [29.562, 30.75 , 31.5  , 32.   , 32.375, 32.687, 32.875, 33.062,\n",
      "        33.187, 33.312],\n",
      "       [22.625, 21.812, 21.062, 20.375, 19.812, 19.375, 18.875, 18.5  ,\n",
      "        18.125, 17.812]]), array([34.625, 30.562, 30.937, 31.75 , 51.75 , 60.625, 61.812, 39.875,\n",
      "       36.812, 18.312]), array([19.937, 56.   , 45.5  , 32.562, 52.812, 25.   , 49.625, 22.312,\n",
      "       58.25 , 33.812, 14.5  ]))\n"
     ]
    }
   ],
   "source": [
    "# write a code to split the data to train and test\n",
    "\n",
    "def prepare_train_test(data,percentage_for_test):\n",
    "    x_data,y_data = preprocess(data)\n",
    "    #split further into testdata and practice data\n",
    "    x_train,x_test,y_train,y_test = train_test_split(x_data,\\\n",
    "                                                     y_data,\\\n",
    "                                                     test_size = percentage_for_test)\n",
    "    \n",
    "    #Convert all array values to float so scikit learn can run its function\n",
    "    x_train =  np.array(x_train).astype(float)\n",
    "    x_test =  np.array(x_test).astype(float)\n",
    "    y_train =  np.array(y_train).astype(float)\n",
    "    y_test =  np.array(y_test).astype(float) \n",
    "    \n",
    "    return x_train,x_test,y_train,y_test\n",
    "\n",
    "#Code for visualising the data split, and making sure it performs as expected\n",
    "print(prepare_train_test(data,0.5))"
   ]
  },
  {
   "cell_type": "markdown",
   "metadata": {},
   "source": [
    "### Code for training the machine learning model\n",
    "\n",
    "We now need to train our model to find the hyperplane of best fit"
   ]
  },
  {
   "cell_type": "code",
   "execution_count": 79,
   "metadata": {},
   "outputs": [
    {
     "name": "stdout",
     "output_type": "stream",
     "text": [
      "----------RESULTS----------\n",
      "MSE                    0.30\n",
      "intercept              0.12\n",
      "t=1s coef            0.1372\n",
      "t=2s coef           -0.4571\n",
      "t=3s coef           -0.5371\n",
      "t=4s coef            4.1185\n",
      "t=5s coef            0.5044\n",
      "t=6s coef           -5.2413\n",
      "t=7s coef           -3.7123\n",
      "t=8s coef            4.1189\n",
      "t=9s coef           -8.0404\n",
      "t=10s coef          10.0986\n",
      "r2 score               0.99\n"
     ]
    }
   ],
   "source": [
    "# write a code to train the model\n",
    "# the function should return the trained model\n",
    "def train_model(data, percentage_for_test):\n",
    "    \n",
    "    x_train,x_test,y_train,y_test = prepare_train_test(data,percentage_for_test)\n",
    "    \n",
    "    #create the linear regression model\n",
    "    model = linear_model.LinearRegression()\n",
    "    model.fit(x_train,y_train)\n",
    "    #predict the y values for a given c\n",
    "    y_pred = model.predict(x_test)\n",
    "    \n",
    "    #calculate the R2,MSE,coef and intercept\n",
    "    MSE = mean_squared_error(y_test, y_pred)\n",
    "    R2 = r2_score(y_test,y_pred)\n",
    "    coef = model.coef_\n",
    "    intercept = model.intercept_\n",
    "    \n",
    "    #generate the results dictionary to show the accuracy\n",
    "    results = {\"mean squared error\" : MSE,\n",
    "               \"intercept\" : intercept,\n",
    "               \"coefficients\" : coef,\n",
    "               \"r2 score\" : R2}\n",
    "    \n",
    "    return results,model\n",
    "\n",
    "#Save the results of the testing of the test data, as well as the model to predict the temperature in the future\n",
    "results,model = train_model(data,0.1)\n",
    "\n",
    "#print the results for checking\n",
    "print('----------RESULTS----------')\n",
    "print('{:<17}{:>10.2f}'.format('MSE',results['mean squared error']))\n",
    "print('{:<17}{:>10.2f}'.format('intercept',results['intercept']))\n",
    "for i in range(len(results['coefficients'])):\n",
    "    print('{:<17}{:>10.4f}'.format('t={}s coef'.format(i+1),results['coefficients'][i]))\n",
    "print('{:<17}{:>10.2f}'.format('r2 score',results['r2 score']))\n",
    "#print('{:<17}{:>10}'.format('Actual Temp', actual_temp))\n",
    "#print('{:<17}{:>10.2f}'.format('Abs Error', abs_error_vector))"
   ]
  },
  {
   "cell_type": "markdown",
   "metadata": {},
   "source": [
    "### Accuracy Testing\n",
    "\n",
    "We need to determine the margin of error of our model, and we can do so using this function"
   ]
  },
  {
   "cell_type": "code",
   "execution_count": 36,
   "metadata": {},
   "outputs": [
    {
     "name": "stdout",
     "output_type": "stream",
     "text": [
      "----------RESULTS----------\n",
      "Predicted Temp        58.00\n",
      "Actual Temp           58.74\n",
      "Abs Error              0.74\n"
     ]
    }
   ],
   "source": [
    "# write a code to check your accuracy\n",
    "\n",
    "prediction = [[42.375,47.437,50.812,52.437,53.687,54.625,55.437,56.062,56.5,56.812]]\n",
    "actual_temp = 58.74\n",
    "\n",
    "#Convert the prediction to a numpy array containing floats so our model can predict it\n",
    "prediction = np.array(prediction).astype(float)\n",
    "#Predict the temperature using the model\n",
    "result = int(model.predict(prediction))\n",
    "#Get the error in measurement\n",
    "abs_error_vector = abs(actual_temp - result)\n",
    "\n",
    "print('----------RESULTS----------')\n",
    "print('{:<17}{:>10.2f}'.format('Predicted Temp',result))\n",
    "print('{:<17}{:>10.2f}'.format('Actual Temp', actual_temp))\n",
    "print('{:<17}{:>10.2f}'.format('Abs Error', abs_error_vector))"
   ]
  }
 ],
 "metadata": {
  "kernelspec": {
   "display_name": "Python 3",
   "language": "python",
   "name": "python3"
  },
  "language_info": {
   "codemirror_mode": {
    "name": "ipython",
    "version": 3
   },
   "file_extension": ".py",
   "mimetype": "text/x-python",
   "name": "python",
   "nbconvert_exporter": "python",
   "pygments_lexer": "ipython3",
   "version": "3.7.1"
  }
 },
 "nbformat": 4,
 "nbformat_minor": 2
}
